{
 "cells": [
  {
   "cell_type": "markdown",
   "metadata": {},
   "source": [
    "# Tugas Python #1: Body Mass Index\n",
    "Tugas pertemuan ke-4: Jumat 19 Oktober 2018"
   ]
  },
  {
   "cell_type": "code",
   "execution_count": 60,
   "metadata": {},
   "outputs": [
    {
     "name": "stdout",
     "output_type": "stream",
     "text": [
      "-Alat Hitung Body Mass Index-\n",
      "Berat Badan: 75 kg\n",
      "Tinggi Badan: 176 cm\n",
      "Hasil:\n",
      "24.212293388429753 - Normal (healthy weight)\n"
     ]
    }
   ],
   "source": [
    "berat_badan = 75\n",
    "tinggi_badan = 176\n",
    "\n",
    "hitung_BMI = berat_badan/(tinggi_badan/100)**2\n",
    "\n",
    "print(\"-Alat Hitung Body Mass Index-\")\n",
    "print(\"Berat Badan:\",berat_badan,\"kg\")\n",
    "print(\"Tinggi Badan:\",tinggi_badan,\"cm\")\n",
    "print(\"Hasil:\")\n",
    "\n",
    "if hitung_BMI > 0 and hitung_BMI < 15:\n",
    "    print (hitung_BMI,\"-\",\"Very severely underweight\")\n",
    "\n",
    "elif hitung_BMI >= 15 and hitung_BMI < 16:\n",
    "    print (hitung_BMI,\"-\",\"Severely underweight\")\n",
    "    \n",
    "elif hitung_BMI >= 16 and hitung_BMI < 18.5:\n",
    "    print (hitung_BMI,\"-\",\"Underweight\")\n",
    "\n",
    "elif hitung_BMI >= 18.5 and hitung_BMI < 25:\n",
    "    print (hitung_BMI,\"-\",\"Normal (healthy weight)\")\n",
    "    \n",
    "elif hitung_BMI >= 25 and hitung_BMI < 30:\n",
    "    print (hitung_BMI,\"-\",\"Overweight\")\n",
    "    \n",
    "elif hitung_BMI >= 30 and hitung_BMI < 35:\n",
    "    print (hitung_BMI,\"-\",\"Moderately obese\")\n",
    "    \n",
    "elif hitung_BMI >= 35 and hitung_BMI < 40:\n",
    "    print (hitung_BMI,\"-\",\"Severely obese\")\n",
    "\n",
    "elif hitung_BMI >= 40:\n",
    "    print (hitung_BMI,\"-\",\"Very severely obese\")\n",
    "\n",
    "else:\n",
    "    print (\"Mohon maaf, pastikan data yang anda masukan benar dan bernilai positif\") \n",
    "        "
   ]
  },
  {
   "cell_type": "code",
   "execution_count": null,
   "metadata": {},
   "outputs": [],
   "source": []
  }
 ],
 "metadata": {
  "kernelspec": {
   "display_name": "Python 3",
   "language": "python",
   "name": "python3"
  },
  "language_info": {
   "codemirror_mode": {
    "name": "ipython",
    "version": 3
   },
   "file_extension": ".py",
   "mimetype": "text/x-python",
   "name": "python",
   "nbconvert_exporter": "python",
   "pygments_lexer": "ipython3",
   "version": "3.7.0"
  }
 },
 "nbformat": 4,
 "nbformat_minor": 2
}
