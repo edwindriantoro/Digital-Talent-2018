{
 "cells": [
  {
   "cell_type": "markdown",
   "metadata": {},
   "source": [
    "# Tugas 2: Random List & Word Count"
   ]
  },
  {
   "cell_type": "markdown",
   "metadata": {},
   "source": [
    "# LATIHAN 2\n",
    "\n",
    "Diberikan sekumpulan Nilai Random antara 0 sampai dengan 100 sebanyak 250 nilai. Buatlah program untuk melakukan hal berikut:\n",
    "1. Tampilkan Angka Ganjil dari ke 50 nilai tersebut\n",
    "2. Tampilkan berapa banyak yang mendapatkan nilai lebih dari 70\n",
    "3. Tampilkan standar deviasi dari sekumpulan nilai tersebut\n",
    "4. Tampilkan nilai maksimum dan minimum\n",
    "5. Tampilkan modus dari sekumpulan nilai tersebut"
   ]
  },
  {
   "cell_type": "code",
   "execution_count": 17,
   "metadata": {},
   "outputs": [
    {
     "name": "stdout",
     "output_type": "stream",
     "text": [
      "249\n"
     ]
    }
   ],
   "source": [
    "import random\n",
    "\n",
    "# GENERATE RANDOM\n",
    "nilaiTugas = []\n",
    "for i in range(250):\n",
    "    nilaiTugas.append(random.randrange(1,100,1))\n",
    "\n",
    "print(i)\n",
    "\n",
    "# TAMPILKAN:\n",
    "# ganjil\n",
    "# nilai > 70\n",
    "# standar deviasi\n",
    "# maksimum\n",
    "# minimum\n",
    "# modus\n",
    "\n",
    "#untuk ganjil pake modulo buat cek ganjil genap (?)"
   ]
  },
  {
   "cell_type": "code",
   "execution_count": 2,
   "metadata": {
    "scrolled": true
   },
   "outputs": [
    {
     "name": "stdout",
     "output_type": "stream",
     "text": [
      "Nilai Tugas (Random):\n",
      "[50, 84, 55, 52, 45, 84, 14, 20, 74, 44, 57, 51, 89, 8, 86, 52, 66, 3, 4, 41, 89, 46, 4, 1, 80, 98, 3, 62, 85, 52, 86, 35, 33, 2, 15, 90, 60, 30, 53, 16, 79, 1, 80, 33, 77, 33, 57, 97, 49, 22, 18, 25, 77, 62, 26, 73, 90, 82, 30, 19, 28, 12, 38, 31, 7, 10, 75, 99, 51, 60, 69, 72, 45, 88, 18, 25, 99, 69, 37, 4, 87, 61, 12, 42, 22, 57, 52, 31, 83, 73, 24, 20, 83, 33, 19, 90, 24, 4, 39, 2, 44, 27, 72, 9, 83, 35, 9, 34, 58, 10, 46, 12, 23, 13, 80, 33, 13, 5, 76, 52, 3, 15, 51, 64, 14, 57, 13, 25, 63, 65, 89, 8, 49, 45, 45, 14, 87, 67, 79, 25, 92, 52, 43, 70, 70, 12, 42, 84, 82, 2, 96, 2, 9, 71, 52, 71, 59, 57, 82, 64, 92, 72, 86, 61, 45, 26, 93, 49, 31, 89, 31, 57, 65, 78, 65, 80, 61, 99, 21, 85, 55, 50, 69, 14, 53, 84, 43, 73, 72, 75, 8, 94, 77, 64, 86, 49, 90, 93, 94, 32, 7, 75, 79, 14, 78, 67, 98, 70, 19, 99, 53, 92, 9, 55, 82, 36, 97, 99, 46, 32, 38, 11, 75, 29, 13, 21, 32, 6, 79, 96, 15, 51, 26, 59, 19, 75, 92, 41, 78, 72, 22, 81, 7, 41, 42, 40, 68, 59, 79, 12]\n",
      "---------------------------------------\n",
      "A.Nilai Ganjil dari Nilai Tugas:\n",
      "[55, 45, 57, 51, 89, 3, 41, 89, 1, 3, 85, 35, 33, 15, 53, 79, 1, 33, 77, 33, 57, 97, 49, 25, 77, 73, 19, 31, 7, 75, 99, 51, 69, 45, 25, 99, 69, 37, 87, 61, 57, 31, 83, 73, 83, 33, 19, 39, 27, 9, 83, 35, 9, 23, 13, 33, 13, 5, 3, 15, 51, 57, 13, 25, 63, 65, 89, 49, 45, 45, 87, 67, 79, 25, 43, 9, 71, 71, 59, 57, 61, 45, 93, 49, 31, 89, 31, 57, 65, 65, 61, 99, 21, 85, 55, 69, 53, 43, 73, 75, 77, 49, 93, 7, 75, 79, 67, 19, 99, 53, 9, 55, 97, 99, 11, 75, 29, 13, 21, 79, 15, 51, 59, 19, 75, 41, 81, 7, 41, 59, 79]\n",
      "---------------------------------------\n",
      "B.Nilai > 70 dari Nilai Tugas:\n",
      "[84, 84, 74, 89, 86, 89, 80, 98, 85, 86, 90, 79, 80, 77, 97, 77, 73, 90, 82, 75, 99, 72, 88, 99, 87, 83, 73, 83, 90, 72, 83, 80, 76, 89, 87, 79, 92, 84, 82, 96, 71, 71, 82, 92, 72, 86, 93, 89, 78, 80, 99, 85, 84, 73, 72, 75, 94, 77, 86, 90, 93, 94, 75, 79, 78, 98, 99, 92, 82, 97, 99, 75, 79, 96, 75, 92, 78, 72, 81, 79]\n",
      "---------------------------------------\n",
      "C.Standar Deviasi dari Nilai Tugas: 29.111756688836902\n",
      "---------------------------------------\n",
      "D.Nilai Maksimum dari Nilai Tugas: 99\n",
      "---------------------------------------\n",
      "E.Nilai Minimum dari Nilai Tugas: 1\n",
      "---------------------------------------\n",
      "E.Modus dari Nilai Tugas: 52\n",
      "---------------------------------------\n"
     ]
    }
   ],
   "source": [
    "import random\n",
    "\n",
    "# GENERATE RANDOM\n",
    "nilaiTugas = []\n",
    "for i in range(250):\n",
    "    nilaiTugas.append(random.randrange(1,100,1))\n",
    "\n",
    "print (\"Nilai Tugas (Random):\")\n",
    "print (nilaiTugas)\n",
    "print (\"---------------------------------------\")\n",
    "\n",
    "odd_nums = []\n",
    "\n",
    "for oddX in nilaiTugas:\n",
    "    if oddX % 2 > 0:\n",
    "        odd_nums.append(oddX)\n",
    "        \n",
    "print (\"A.Nilai Ganjil dari Nilai Tugas:\")\n",
    "print (odd_nums)\n",
    "print (\"---------------------------------------\")\n",
    "\n",
    "good_scores = []\n",
    "\n",
    "for goodX in nilaiTugas:\n",
    "    if goodX >70:\n",
    "        good_scores.append (goodX)\n",
    "        \n",
    "print (\"B.Nilai > 70 dari Nilai Tugas:\")\n",
    "print (good_scores)\n",
    "print (\"---------------------------------------\")\n",
    "\n",
    "import statistics\n",
    "stdev_score = statistics.stdev (nilaiTugas)\n",
    "\n",
    "print (\"C.Standar Deviasi dari Nilai Tugas:\",stdev_score)\n",
    "print (\"---------------------------------------\")\n",
    "\n",
    "max_score = max (nilaiTugas)\n",
    "print (\"D.Nilai Maksimum dari Nilai Tugas:\",max_score)\n",
    "print (\"---------------------------------------\")\n",
    "\n",
    "min_score = min (nilaiTugas)\n",
    "print (\"E.Nilai Minimum dari Nilai Tugas:\",min_score)\n",
    "print (\"---------------------------------------\")\n",
    "\n",
    "mode_score = statistics.mode (nilaiTugas)\n",
    "print (\"E.Modus dari Nilai Tugas:\",mode_score)\n",
    "print (\"---------------------------------------\")\n",
    "# TAMPILKAN:\n",
    "# ganjil\n",
    "# nilai > 70\n",
    "# standar deviasi\n",
    "# maksimum\n",
    "# minimum\n",
    "# modus"
   ]
  },
  {
   "cell_type": "markdown",
   "metadata": {},
   "source": [
    "# LATIHAN 3 - Word Count\n",
    "Diberikan sebuah paragraf, hitunglah banyak kemunculan masing-masing kata.\n",
    "Contoh : \"Presiden pagi ini melakukan kunjungan ke Jogja\"\n",
    "\n",
    "- Presiden: 1\n",
    "- pagi: 1\n",
    "- ini: 1\n",
    "- melakukan: 1\n",
    "- kunjungan: 1\n",
    "- ke: 1\n",
    "- Jogja: 1\n",
    "\n",
    "hints: Gunakan Dictionary dalam menyimpan word count. Gunakan kata sebagai key, dan jumlah kemunculan sebagai value"
   ]
  },
  {
   "cell_type": "code",
   "execution_count": 10,
   "metadata": {},
   "outputs": [
    {
     "name": "stdout",
     "output_type": "stream",
     "text": [
      "#1 Paragraf Asli yang akan diolah:\n",
      "\n",
      "Barcelona berhasil merebut posisi puncak klasemen La Liga Spanyol seusai menang 4-2 atas Sevilla pada pertandingan pekan kesembilan di Stadion Camp Nou, Sabtu (20/10/2018) atau Minggu dini hari WIB. Barcelona membuka keunggulan pada menit ke-2 melalui gol yang dicetak oleh Philippe Coutinho. Lionel Messi menggandakan keunggulan Barcelona, 10 menit berselang.  Namun, nahas bagi Barcelona, karena Messi harus ditarik keluar pada menit ke-26 setelah mengalami cedera. Tanpa Messi, skor 2-0 bertahan hingga babak pertama berakhir.\n"
     ]
    }
   ],
   "source": [
    "paragraf = \"Barcelona berhasil merebut posisi puncak klasemen La Liga Spanyol seusai menang 4-2 atas Sevilla pada pertandingan pekan kesembilan di Stadion Camp Nou, Sabtu (20/10/2018) atau Minggu dini hari WIB. Barcelona membuka keunggulan pada menit ke-2 melalui gol yang dicetak oleh Philippe Coutinho. Lionel Messi menggandakan keunggulan Barcelona, 10 menit berselang.  Namun, nahas bagi Barcelona, karena Messi harus ditarik keluar pada menit ke-26 setelah mengalami cedera. Tanpa Messi, skor 2-0 bertahan hingga babak pertama berakhir.\"\n",
    "print (\"#1 Paragraf Asli yang akan diolah:\")\n",
    "print (\"\")\n",
    "print(paragraf)"
   ]
  },
  {
   "cell_type": "code",
   "execution_count": 19,
   "metadata": {},
   "outputs": [
    {
     "name": "stdout",
     "output_type": "stream",
     "text": [
      "#2 Menghilangkan tanda baca pada paragraf dan membuat list kata dari paragraf\n",
      "\n",
      "['Barcelona', 'berhasil', 'merebut', 'posisi', 'puncak', 'klasemen', 'La', 'Liga', 'Spanyol', 'seusai', 'menang', '4-2', 'atas', 'Sevilla', 'pada', 'pertandingan', 'pekan', 'kesembilan', 'di', 'Stadion', 'Camp', 'Nou', 'Sabtu', '20/10/2018', 'atau', 'Minggu', 'dini', 'hari', 'WIB', 'Barcelona', 'membuka', 'keunggulan', 'pada', 'menit', 'ke-2', 'melalui', 'gol', 'yang', 'dicetak', 'oleh', 'Philippe', 'Coutinho', 'Lionel', 'Messi', 'menggandakan', 'keunggulan', 'Barcelona', '10', 'menit', 'berselang', 'Namun', 'nahas', 'bagi', 'Barcelona', 'karena', 'Messi', 'harus', 'ditarik', 'keluar', 'pada', 'menit', 'ke-26', 'setelah', 'mengalami', 'cedera', 'Tanpa', 'Messi', 'skor', '2-0', 'bertahan', 'hingga', 'babak', 'pertama', 'berakhir']\n"
     ]
    }
   ],
   "source": [
    "print (\"#2 Menghilangkan tanda baca pada paragraf dan membuat list kata dari paragraf\")\n",
    "print (\"\")\n",
    "paragraf = paragraf.replace(\".\",\"\")\n",
    "paragraf = paragraf.replace(\",\",\"\")\n",
    "paragraf = paragraf.replace(\"(\",\"\")\n",
    "paragraf = paragraf.replace(\")\",\"\")\n",
    "\n",
    "kataX=paragraf.split()\n",
    "\n",
    "print (kataX)"
   ]
  },
  {
   "cell_type": "code",
   "execution_count": 24,
   "metadata": {},
   "outputs": [
    {
     "name": "stdout",
     "output_type": "stream",
     "text": [
      "#3 Membuat dictionary untuk menghitung frekuensi muncul masing-masing kata dari paragraf\n",
      "\n",
      "Barcelona : 4\n",
      "berhasil : 1\n",
      "merebut : 1\n",
      "posisi : 1\n",
      "puncak : 1\n",
      "klasemen : 1\n",
      "La : 1\n",
      "Liga : 1\n",
      "Spanyol : 1\n",
      "seusai : 1\n",
      "menang : 1\n",
      "4-2 : 1\n",
      "atas : 1\n",
      "Sevilla : 1\n",
      "pada : 3\n",
      "pertandingan : 1\n",
      "pekan : 1\n",
      "kesembilan : 1\n",
      "di : 1\n",
      "Stadion : 1\n",
      "Camp : 1\n",
      "Nou : 1\n",
      "Sabtu : 1\n",
      "20/10/2018 : 1\n",
      "atau : 1\n",
      "Minggu : 1\n",
      "dini : 1\n",
      "hari : 1\n",
      "WIB : 1\n",
      "membuka : 1\n",
      "keunggulan : 2\n",
      "menit : 3\n",
      "ke-2 : 1\n",
      "melalui : 1\n",
      "gol : 1\n",
      "yang : 1\n",
      "dicetak : 1\n",
      "oleh : 1\n",
      "Philippe : 1\n",
      "Coutinho : 1\n",
      "Lionel : 1\n",
      "Messi : 3\n",
      "menggandakan : 1\n",
      "10 : 1\n",
      "berselang : 1\n",
      "Namun : 1\n",
      "nahas : 1\n",
      "bagi : 1\n",
      "karena : 1\n",
      "harus : 1\n",
      "ditarik : 1\n",
      "keluar : 1\n",
      "ke-26 : 1\n",
      "setelah : 1\n",
      "mengalami : 1\n",
      "cedera : 1\n",
      "Tanpa : 1\n",
      "skor : 1\n",
      "2-0 : 1\n",
      "bertahan : 1\n",
      "hingga : 1\n",
      "babak : 1\n",
      "pertama : 1\n",
      "berakhir : 1\n"
     ]
    }
   ],
   "source": [
    "print (\"#3 Membuat dictionary untuk menghitung frekuensi muncul masing-masing kata dari paragraf\")\n",
    "print (\"\")\n",
    "\n",
    "hitung_kata = {}\n",
    "\n",
    "for kata in kataX:\n",
    "    if kata in hitung_kata:\n",
    "        hitung_kata[kata]+=1\n",
    "    else:\n",
    "        hitung_kata[kata]=1\n",
    "for kata,hitung in hitung_kata.items():\n",
    "    print (kata,\":\",hitung)"
   ]
  },
  {
   "cell_type": "code",
   "execution_count": null,
   "metadata": {},
   "outputs": [],
   "source": []
  }
 ],
 "metadata": {
  "kernelspec": {
   "display_name": "Python 3",
   "language": "python",
   "name": "python3"
  },
  "language_info": {
   "codemirror_mode": {
    "name": "ipython",
    "version": 3
   },
   "file_extension": ".py",
   "mimetype": "text/x-python",
   "name": "python",
   "nbconvert_exporter": "python",
   "pygments_lexer": "ipython3",
   "version": "3.7.0"
  }
 },
 "nbformat": 4,
 "nbformat_minor": 2
}
